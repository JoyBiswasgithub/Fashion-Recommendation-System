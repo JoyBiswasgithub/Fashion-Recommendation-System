{
 "cells": [
  {
   "cell_type": "code",
   "execution_count": 42,
   "metadata": {},
   "outputs": [],
   "source": [
    "import numpy as np\n",
    "from tensorflow.keras.preprocessing import image\n",
    "from tensorflow.keras.applications.resnet50 import preprocess_input"
   ]
  },
  {
   "cell_type": "code",
   "execution_count": 43,
   "metadata": {},
   "outputs": [],
   "source": [
    "import tensorflow"
   ]
  },
  {
   "cell_type": "code",
   "execution_count": 44,
   "metadata": {},
   "outputs": [],
   "source": [
    "from tensorflow.keras.applications.resnet50 import ResNet50\n",
    "from tensorflow.keras.layers import GlobalMaxPooling2D"
   ]
  },
  {
   "cell_type": "code",
   "execution_count": 45,
   "metadata": {},
   "outputs": [],
   "source": [
    "img = image.load_img(\"C:\\\\Users\\\\Joy Biswas\\\\OneDrive\\\\Desktop\\\\Recomendation\\\\Test Image\\\\1571.jpg\", target_size=(224,224))\n",
    "img = image.img_to_array(img)\n",
    "img = np.expand_dims(img, axis=0)\n",
    "processed_img = preprocess_input(img)\n"
   ]
  },
  {
   "cell_type": "code",
   "execution_count": 46,
   "metadata": {},
   "outputs": [],
   "source": [
    "import pickle"
   ]
  },
  {
   "cell_type": "code",
   "execution_count": 47,
   "metadata": {},
   "outputs": [],
   "source": [
    "model = ResNet50(weights='imagenet', include_top=False, input_shape=(224,224,3))\n",
    "model.trainable = False\n",
    "model = tensorflow.keras.Sequential([\n",
    "    model,\n",
    "    GlobalMaxPooling2D()\n",
    "])"
   ]
  },
  {
   "cell_type": "code",
   "execution_count": 48,
   "metadata": {},
   "outputs": [],
   "source": [
    "file_names = pickle.load(open('filename.pkl', 'rb'))\n",
    "feature_list = pickle.load(open('feature_list.pkl', 'rb'))"
   ]
  },
  {
   "cell_type": "code",
   "execution_count": 49,
   "metadata": {},
   "outputs": [],
   "source": [
    "from numpy.linalg import norm"
   ]
  },
  {
   "cell_type": "code",
   "execution_count": 50,
   "metadata": {},
   "outputs": [
    {
     "name": "stdout",
     "output_type": "stream",
     "text": [
      "1/1 [==============================] - 1s 1s/step\n"
     ]
    }
   ],
   "source": [
    "res = model.predict(img).flatten()\n",
    "norm_res = res/norm(res)"
   ]
  },
  {
   "cell_type": "code",
   "execution_count": 51,
   "metadata": {},
   "outputs": [],
   "source": [
    "from sklearn.neighbors import NearestNeighbors"
   ]
  },
  {
   "cell_type": "code",
   "execution_count": 52,
   "metadata": {},
   "outputs": [],
   "source": [
    "neig = NearestNeighbors(n_neighbors=5, algorithm='brute', metric='euclidean')"
   ]
  },
  {
   "cell_type": "code",
   "execution_count": 53,
   "metadata": {},
   "outputs": [
    {
     "data": {
      "text/html": [
       "<style>#sk-container-id-3 {color: black;}#sk-container-id-3 pre{padding: 0;}#sk-container-id-3 div.sk-toggleable {background-color: white;}#sk-container-id-3 label.sk-toggleable__label {cursor: pointer;display: block;width: 100%;margin-bottom: 0;padding: 0.3em;box-sizing: border-box;text-align: center;}#sk-container-id-3 label.sk-toggleable__label-arrow:before {content: \"▸\";float: left;margin-right: 0.25em;color: #696969;}#sk-container-id-3 label.sk-toggleable__label-arrow:hover:before {color: black;}#sk-container-id-3 div.sk-estimator:hover label.sk-toggleable__label-arrow:before {color: black;}#sk-container-id-3 div.sk-toggleable__content {max-height: 0;max-width: 0;overflow: hidden;text-align: left;background-color: #f0f8ff;}#sk-container-id-3 div.sk-toggleable__content pre {margin: 0.2em;color: black;border-radius: 0.25em;background-color: #f0f8ff;}#sk-container-id-3 input.sk-toggleable__control:checked~div.sk-toggleable__content {max-height: 200px;max-width: 100%;overflow: auto;}#sk-container-id-3 input.sk-toggleable__control:checked~label.sk-toggleable__label-arrow:before {content: \"▾\";}#sk-container-id-3 div.sk-estimator input.sk-toggleable__control:checked~label.sk-toggleable__label {background-color: #d4ebff;}#sk-container-id-3 div.sk-label input.sk-toggleable__control:checked~label.sk-toggleable__label {background-color: #d4ebff;}#sk-container-id-3 input.sk-hidden--visually {border: 0;clip: rect(1px 1px 1px 1px);clip: rect(1px, 1px, 1px, 1px);height: 1px;margin: -1px;overflow: hidden;padding: 0;position: absolute;width: 1px;}#sk-container-id-3 div.sk-estimator {font-family: monospace;background-color: #f0f8ff;border: 1px dotted black;border-radius: 0.25em;box-sizing: border-box;margin-bottom: 0.5em;}#sk-container-id-3 div.sk-estimator:hover {background-color: #d4ebff;}#sk-container-id-3 div.sk-parallel-item::after {content: \"\";width: 100%;border-bottom: 1px solid gray;flex-grow: 1;}#sk-container-id-3 div.sk-label:hover label.sk-toggleable__label {background-color: #d4ebff;}#sk-container-id-3 div.sk-serial::before {content: \"\";position: absolute;border-left: 1px solid gray;box-sizing: border-box;top: 0;bottom: 0;left: 50%;z-index: 0;}#sk-container-id-3 div.sk-serial {display: flex;flex-direction: column;align-items: center;background-color: white;padding-right: 0.2em;padding-left: 0.2em;position: relative;}#sk-container-id-3 div.sk-item {position: relative;z-index: 1;}#sk-container-id-3 div.sk-parallel {display: flex;align-items: stretch;justify-content: center;background-color: white;position: relative;}#sk-container-id-3 div.sk-item::before, #sk-container-id-3 div.sk-parallel-item::before {content: \"\";position: absolute;border-left: 1px solid gray;box-sizing: border-box;top: 0;bottom: 0;left: 50%;z-index: -1;}#sk-container-id-3 div.sk-parallel-item {display: flex;flex-direction: column;z-index: 1;position: relative;background-color: white;}#sk-container-id-3 div.sk-parallel-item:first-child::after {align-self: flex-end;width: 50%;}#sk-container-id-3 div.sk-parallel-item:last-child::after {align-self: flex-start;width: 50%;}#sk-container-id-3 div.sk-parallel-item:only-child::after {width: 0;}#sk-container-id-3 div.sk-dashed-wrapped {border: 1px dashed gray;margin: 0 0.4em 0.5em 0.4em;box-sizing: border-box;padding-bottom: 0.4em;background-color: white;}#sk-container-id-3 div.sk-label label {font-family: monospace;font-weight: bold;display: inline-block;line-height: 1.2em;}#sk-container-id-3 div.sk-label-container {text-align: center;}#sk-container-id-3 div.sk-container {/* jupyter's `normalize.less` sets `[hidden] { display: none; }` but bootstrap.min.css set `[hidden] { display: none !important; }` so we also need the `!important` here to be able to override the default hidden behavior on the sphinx rendered scikit-learn.org. See: https://github.com/scikit-learn/scikit-learn/issues/21755 */display: inline-block !important;position: relative;}#sk-container-id-3 div.sk-text-repr-fallback {display: none;}</style><div id=\"sk-container-id-3\" class=\"sk-top-container\"><div class=\"sk-text-repr-fallback\"><pre>NearestNeighbors(algorithm=&#x27;brute&#x27;, metric=&#x27;euclidean&#x27;)</pre><b>In a Jupyter environment, please rerun this cell to show the HTML representation or trust the notebook. <br />On GitHub, the HTML representation is unable to render, please try loading this page with nbviewer.org.</b></div><div class=\"sk-container\" hidden><div class=\"sk-item\"><div class=\"sk-estimator sk-toggleable\"><input class=\"sk-toggleable__control sk-hidden--visually\" id=\"sk-estimator-id-3\" type=\"checkbox\" checked><label for=\"sk-estimator-id-3\" class=\"sk-toggleable__label sk-toggleable__label-arrow\">NearestNeighbors</label><div class=\"sk-toggleable__content\"><pre>NearestNeighbors(algorithm=&#x27;brute&#x27;, metric=&#x27;euclidean&#x27;)</pre></div></div></div></div></div>"
      ],
      "text/plain": [
       "NearestNeighbors(algorithm='brute', metric='euclidean')"
      ]
     },
     "execution_count": 53,
     "metadata": {},
     "output_type": "execute_result"
    }
   ],
   "source": [
    "neig.fit(feature_list)"
   ]
  },
  {
   "cell_type": "code",
   "execution_count": 54,
   "metadata": {},
   "outputs": [],
   "source": [
    "distance, indices = neig.kneighbors([norm_res])"
   ]
  },
  {
   "cell_type": "code",
   "execution_count": 55,
   "metadata": {},
   "outputs": [
    {
     "data": {
      "text/plain": [
       "array([[ 4820, 24688, 10166, 24718, 11963]], dtype=int64)"
      ]
     },
     "execution_count": 55,
     "metadata": {},
     "output_type": "execute_result"
    }
   ],
   "source": [
    "indices"
   ]
  },
  {
   "cell_type": "code",
   "execution_count": 56,
   "metadata": {},
   "outputs": [
    {
     "data": {
      "image/png": "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",
      "text/plain": [
       "<Figure size 640x480 with 1 Axes>"
      ]
     },
     "metadata": {},
     "output_type": "display_data"
    },
    {
     "data": {
      "image/png": "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",
      "text/plain": [
       "<Figure size 640x480 with 1 Axes>"
      ]
     },
     "metadata": {},
     "output_type": "display_data"
    },
    {
     "data": {
      "image/png": "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",
      "text/plain": [
       "<Figure size 640x480 with 1 Axes>"
      ]
     },
     "metadata": {},
     "output_type": "display_data"
    },
    {
     "data": {
      "image/png": "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",
      "text/plain": [
       "<Figure size 640x480 with 1 Axes>"
      ]
     },
     "metadata": {},
     "output_type": "display_data"
    },
    {
     "data": {
      "image/png": "+++++++++++++++++++++++++++++++++++++++++++++
       "text/plain": [
       "<Figure size 640x480 with 1 Axes>"
      ]
     },
     "metadata": {},
     "output_type": "display_data"
    }
   ],
   "source": [
    "\n",
    "import cv2\n",
    "import matplotlib.pyplot as plt\n",
    "\n",
    "for file in indices[0]:\n",
    "    image = cv2.imread(file_names[file])\n",
    "    # Convert BGR image to RGB\n",
    "    image_rgb = cv2.cvtColor(image, cv2.COLOR_BGR2RGB)\n",
    "    plt.imshow(image_rgb)\n",
    "    #plt.title('Display')\n",
    "    plt.axis('off')  # Hide axes\n",
    "    plt.show()\n"
   ]
  },
  {
   "cell_type": "code",
   "execution_count": null,
   "metadata": {},
   "outputs": [],
   "source": []
  }
 ],
 "metadata": {
  "kernelspec": {
   "display_name": "tensorflowGPU",
   "language": "python",
   "name": "python3"
  },
  "language_info": {
   "codemirror_mode": {
    "name": "ipython",
    "version": 3
   },
   "file_extension": ".py",
   "mimetype": "text/x-python",
   "name": "python",
   "nbconvert_exporter": "python",
   "pygments_lexer": "ipython3",
   "version": "3.9.17"
  }
 },
 "nbformat": 4,
 "nbformat_minor": 2
}
